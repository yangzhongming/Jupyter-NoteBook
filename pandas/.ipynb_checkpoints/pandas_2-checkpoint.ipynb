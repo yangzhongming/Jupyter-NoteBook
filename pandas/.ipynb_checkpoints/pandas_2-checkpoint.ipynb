{
 "cells": [
  {
   "cell_type": "code",
   "execution_count": 4,
   "metadata": {},
   "outputs": [
    {
     "name": "stdout",
     "output_type": "stream",
     "text": [
      "['NDB_No', 'Shrt_Desc', 'Water_(g)', 'Energ_Kcal', 'Protein_(g)', 'Lipid_Tot_(g)', 'Ash_(g)', 'Carbohydrt_(g)', 'Fiber_TD_(g)', 'Sugar_Tot_(g)', 'Calcium_(mg)', 'Iron_(mg)', 'Magnesium_(mg)', 'Phosphorus_(mg)', 'Potassium_(mg)', 'Sodium_(mg)', 'Zinc_(mg)', 'Copper_(mg)', 'Manganese_(mg)', 'Selenium_(mcg)', 'Vit_C_(mg)', 'Thiamin_(mg)', 'Riboflavin_(mg)', 'Niacin_(mg)', 'Vit_B6_(mg)', 'Vit_B12_(mcg)', 'Vit_A_IU', 'Vit_A_RAE', 'Vit_E_(mg)', 'Vit_D_mcg', 'Vit_D_IU', 'Vit_K_(mcg)', 'FA_Sat_(g)', 'FA_Mono_(g)', 'FA_Poly_(g)', 'Cholestrl_(mg)']\n",
      "**********\n",
      "Index(['NDB_No', 'Shrt_Desc', 'Water_(g)', 'Energ_Kcal', 'Protein_(g)',\n",
      "       'Lipid_Tot_(g)', 'Ash_(g)', 'Carbohydrt_(g)', 'Fiber_TD_(g)',\n",
      "       'Sugar_Tot_(g)', 'Calcium_(mg)', 'Iron_(mg)', 'Magnesium_(mg)',\n",
      "       'Phosphorus_(mg)', 'Potassium_(mg)', 'Sodium_(mg)', 'Zinc_(mg)',\n",
      "       'Copper_(mg)', 'Manganese_(mg)', 'Selenium_(mcg)', 'Vit_C_(mg)',\n",
      "       'Thiamin_(mg)', 'Riboflavin_(mg)', 'Niacin_(mg)', 'Vit_B6_(mg)',\n",
      "       'Vit_B12_(mcg)', 'Vit_A_IU', 'Vit_A_RAE', 'Vit_E_(mg)', 'Vit_D_mcg',\n",
      "       'Vit_D_IU', 'Vit_K_(mcg)', 'FA_Sat_(g)', 'FA_Mono_(g)', 'FA_Poly_(g)',\n",
      "       'Cholestrl_(mg)'],\n",
      "      dtype='object')\n"
     ]
    }
   ],
   "source": [
    "import pandas\n",
    "food_info = pandas.read_csv(\"food_info.csv\")\n",
    "col_names = food_info.columns.tolist()\n",
    "print(col_names)\n",
    "#print(food_info.head(3))"
   ]
  },
  {
   "cell_type": "code",
   "execution_count": 9,
   "metadata": {},
   "outputs": [
    {
     "name": "stdout",
     "output_type": "stream",
     "text": [
      "0       0.00002\n",
      "1       0.00016\n",
      "2       0.00000\n",
      "3       0.00031\n",
      "4       0.00043\n",
      "5       0.00050\n",
      "6       0.00033\n",
      "7       0.00064\n",
      "8       0.00016\n",
      "9       0.00021\n",
      "10      0.00076\n",
      "11      0.00007\n",
      "12      0.00016\n",
      "13      0.00015\n",
      "14      0.00013\n",
      "15      0.00014\n",
      "16      0.00038\n",
      "17      0.00044\n",
      "18      0.00065\n",
      "19      0.00023\n",
      "20      0.00052\n",
      "21      0.00024\n",
      "22      0.00017\n",
      "23      0.00013\n",
      "24      0.00072\n",
      "25      0.00044\n",
      "26      0.00020\n",
      "27      0.00022\n",
      "28      0.00023\n",
      "29      0.00041\n",
      "         ...   \n",
      "8588    0.00900\n",
      "8589    0.00030\n",
      "8590    0.00010\n",
      "8591    0.00163\n",
      "8592    0.03482\n",
      "8593    0.00228\n",
      "8594    0.00017\n",
      "8595    0.00017\n",
      "8596    0.00486\n",
      "8597    0.00025\n",
      "8598    0.00023\n",
      "8599    0.00013\n",
      "8600    0.00011\n",
      "8601    0.00068\n",
      "8602    0.00783\n",
      "8603    0.00311\n",
      "8604    0.00030\n",
      "8605    0.00018\n",
      "8606    0.00080\n",
      "8607    0.00004\n",
      "8608    0.00387\n",
      "8609    0.00005\n",
      "8610    0.00038\n",
      "8611    0.00520\n",
      "8612    0.00150\n",
      "8613    0.00140\n",
      "8614    0.00058\n",
      "8615    0.00360\n",
      "8616    0.00350\n",
      "8617    0.00140\n",
      "Name: Iron_(mg), Length: 8618, dtype: float64\n"
     ]
    }
   ],
   "source": [
    "# print (food_info[\"Iron_(mg)\"])\n",
    "div_1000 = food_info[\"Iron_(mg)\"] / 1000\n",
    "print (div_1000)\n",
    "# Adds 100 to each value in the column and returns a Series object.\n",
    "#add_100 = food_info[\"Iron_(mg)\"] + 100\n",
    "\n",
    "# Subtracts 100 from each value in the column and returns a Series object.\n",
    "#sub_100 = food_info[\"Iron_(mg)\"] - 100\n",
    "\n",
    "# Multiplies each value in the column by 2 and returns a Series object.\n",
    "#mult_2 = food_info[\"Iron_(mg)\"]*2\n"
   ]
  },
  {
   "cell_type": "code",
   "execution_count": 3,
   "metadata": {
    "collapsed": true
   },
   "outputs": [],
   "source": [
    "#It applies the arithmetic operator to the first value in both columns, the second value in both columns, and so on\n",
    "water_energy = food_info[\"Water_(g)\"] * food_info[\"Energ_Kcal\"]\n",
    "water_energy = food_info[\"Water_(g)\"] * food_info[\"Energ_Kcal\"]\n",
    "iron_grams = food_info[\"Iron_(mg)\"] / 1000  \n",
    "food_info[\"Iron_(g)\"] = iron_grams"
   ]
  },
  {
   "cell_type": "code",
   "execution_count": 4,
   "metadata": {
    "collapsed": true
   },
   "outputs": [],
   "source": [
    "#Score=2×(Protein_(g))−0.75×(Lipid_Tot_(g))\n",
    "weighted_protein = food_info[\"Protein_(g)\"] * 2\n",
    "weighted_fat = -0.75 * food_info[\"Lipid_Tot_(g)\"]\n",
    "initial_rating = weighted_protein + weighted_fat"
   ]
  },
  {
   "cell_type": "code",
   "execution_count": 12,
   "metadata": {},
   "outputs": [
    {
     "name": "stdout",
     "output_type": "stream",
     "text": [
      "902\n"
     ]
    }
   ],
   "source": [
    "# the \"Vit_A_IU\" column ranges from 0 to 100000, while the \"Fiber_TD_(g)\" column ranges from 0 to 79\n",
    "#For certain calculations, columns like \"Vit_A_IU\" can have a greater effect on the result, \n",
    "#due to the scale of the values\n",
    "# The largest value in the \"Energ_Kcal\" column.\n",
    "max_calories = food_info[\"Energ_Kcal\"].max()\n",
    "print(max_calories)\n",
    "# Divide the values in \"Energ_Kcal\" by the largest value.\n",
    "# normalized_calories = food_info[\"Energ_Kcal\"] / max_calories\n",
    "# normalized_protein = food_info[\"Protein_(g)\"] / food_info[\"Protein_(g)\"].max()\n",
    "# normalized_fat = food_info[\"Lipid_Tot_(g)\"] / food_info[\"Lipid_Tot_(g)\"].max()\n",
    "# food_info[\"Normalized_Protein\"] = normalized_protein\n",
    "# food_info[\"Normalized_Fat\"] = normalized_fat"
   ]
  },
  {
   "cell_type": "code",
   "execution_count": 15,
   "metadata": {},
   "outputs": [
    {
     "name": "stdout",
     "output_type": "stream",
     "text": [
      "760     0.0\n",
      "758     0.0\n",
      "405     0.0\n",
      "761     0.0\n",
      "2269    0.0\n",
      "763     0.0\n",
      "764     0.0\n",
      "770     0.0\n",
      "774     0.0\n",
      "396     0.0\n",
      "395     0.0\n",
      "6827    0.0\n",
      "394     0.0\n",
      "393     0.0\n",
      "391     0.0\n",
      "390     0.0\n",
      "787     0.0\n",
      "788     0.0\n",
      "2270    0.0\n",
      "2231    0.0\n",
      "407     0.0\n",
      "748     0.0\n",
      "409     0.0\n",
      "747     0.0\n",
      "702     0.0\n",
      "703     0.0\n",
      "704     0.0\n",
      "705     0.0\n",
      "706     0.0\n",
      "707     0.0\n",
      "       ... \n",
      "8153    NaN\n",
      "8155    NaN\n",
      "8156    NaN\n",
      "8157    NaN\n",
      "8158    NaN\n",
      "8159    NaN\n",
      "8160    NaN\n",
      "8161    NaN\n",
      "8163    NaN\n",
      "8164    NaN\n",
      "8165    NaN\n",
      "8167    NaN\n",
      "8169    NaN\n",
      "8170    NaN\n",
      "8172    NaN\n",
      "8173    NaN\n",
      "8174    NaN\n",
      "8175    NaN\n",
      "8176    NaN\n",
      "8177    NaN\n",
      "8178    NaN\n",
      "8179    NaN\n",
      "8180    NaN\n",
      "8181    NaN\n",
      "8183    NaN\n",
      "8184    NaN\n",
      "8185    NaN\n",
      "8195    NaN\n",
      "8251    NaN\n",
      "8267    NaN\n",
      "Name: Sodium_(mg), Length: 8618, dtype: float64\n"
     ]
    }
   ],
   "source": [
    "#By default, pandas will sort the data by the column we specify in ascending order and return a new DataFrame\n",
    "# Sorts the DataFrame in-place, rather than returning a new DataFrame.\n",
    "#print food_info[\"Sodium_(mg)\"]\n",
    "food_info.sort_values(\"Sodium_(mg)\", inplace=True)\n",
    "print (food_info[\"Sodium_(mg)\"])\n",
    "#Sorts by descending order, rather than ascending.\n",
    "# food_info.sort_values(\"Sodium_(mg)\", inplace=True, ascending=False)\n",
    "# print food_info[\"Sodium_(mg)\"]"
   ]
  },
  {
   "cell_type": "code",
   "execution_count": null,
   "metadata": {
    "collapsed": true
   },
   "outputs": [],
   "source": []
  }
 ],
 "metadata": {
  "kernelspec": {
   "display_name": "Python 3",
   "language": "python",
   "name": "python3"
  },
  "language_info": {
   "codemirror_mode": {
    "name": "ipython",
    "version": 3
   },
   "file_extension": ".py",
   "mimetype": "text/x-python",
   "name": "python",
   "nbconvert_exporter": "python",
   "pygments_lexer": "ipython3",
   "version": "3.6.4"
  }
 },
 "nbformat": 4,
 "nbformat_minor": 1
}
